{
 "metadata": {
  "name": "",
  "signature": "sha256:5d15d1fda5c34bda63aeed4a7c0904be96c6f7cd66f6bc140655a9c611ab4612"
 },
 "nbformat": 3,
 "nbformat_minor": 0,
 "worksheets": [
  {
   "cells": [
    {
     "cell_type": "code",
     "collapsed": false,
     "input": [
      "import networkx as nx\n",
      "import pickle\n",
      "import os, sys\n",
      "import numpy as np\n",
      "import matplotlib.pyplot as plt\n",
      "import TemporalStability as tp"
     ],
     "language": "python",
     "metadata": {},
     "outputs": [],
     "prompt_number": 1
    },
    {
     "cell_type": "heading",
     "level": 1,
     "metadata": {},
     "source": [
      "Temporal network creation"
     ]
    },
    {
     "cell_type": "markdown",
     "metadata": {},
     "source": [
      "We create here a simple temporal network composed of two blocks of nodes. \n",
      "Nodes belonging to block 1(2) interact among themselves for a period $x$ with probability $p_1$ ($p_2$). \n",
      "Then for a period $y$, nodes interact only across blocks with probability $p_3$.   \n",
      "It is possible to choose the probabilities and length of periods in such a way as to have a uniform aggregated graph, that however does show clear differences between blocks at the temporal level. "
     ]
    },
    {
     "cell_type": "code",
     "collapsed": false,
     "input": [
      "def two_block_temporal_random_graph(N=100,N1=100,p1=0.01,p2=0.01,p3=0.1,x=10,y=1, num_iterations=100):\n",
      "    import networkx as nx \n",
      "    import sys, os\n",
      "    import pickle\n",
      "    import random\n",
      "    \n",
      "    # temporal graph dictionary\n",
      "    TG={};\n",
      "\n",
      "    for i in range(num_iterations*(x+y)):\n",
      "        if i%(x+y)==0:\n",
      "            g=nx.Graph();\n",
      "            g.add_nodes_from(range(N+N1));\n",
      "            for n in range(N):\n",
      "                for m in range(N,N+N1):\n",
      "                    if random.random()<p3:\n",
      "                        g.add_edge(n,m);\n",
      "        else:\n",
      "            g=nx.Graph();\n",
      "            g.add_nodes_from(range(N+N1));\n",
      "            for n in range(N):\n",
      "                for m in range(n,N):\n",
      "                    if random.random()<p1:\n",
      "                        g.add_edge(n,m);\n",
      "            for n in range(N,N+N1):\n",
      "                for m in range(n,N+N1):\n",
      "                    if random.random()<p2:\n",
      "                        g.add_edge(n,m);\n",
      "        TG[i]=[];\n",
      "        TG[i]=g;\n",
      "    return TG;"
     ],
     "language": "python",
     "metadata": {},
     "outputs": [],
     "prompt_number": 2
    },
    {
     "cell_type": "code",
     "collapsed": false,
     "input": [
      "N=10;\n",
      "N1=10;\n",
      "p1=0.01;\n",
      "p2=0.01;\n",
      "x=20;\n",
      "y=1; \n",
      "num_iterations=10\n",
      "p3= (float(x*p1)/float(y*2*N*N1)) * (N*(N-1)+N1*(N1-1));"
     ],
     "language": "python",
     "metadata": {},
     "outputs": [],
     "prompt_number": 3
    },
    {
     "cell_type": "code",
     "collapsed": false,
     "input": [
      "TG=two_block_temporal_random_graph(N,N1,p1,p2,p3=p2,x=x,y=1,num_iterations=100);"
     ],
     "language": "python",
     "metadata": {},
     "outputs": [],
     "prompt_number": 4
    },
    {
     "cell_type": "code",
     "collapsed": false,
     "input": [
      "av_real=[];\n",
      "for t in TG:\n",
      "    av_real.append(2*float(TG[t].number_of_edges())/float(TG[t].number_of_nodes()))\n",
      "\n",
      "m=2\n",
      "a=tp.activity_potential(TG);\n",
      "eta=tp.eta_fitter(a,np.mean(av_real),m)\n",
      "activity_dict=tp.final_activity_dict(a,eta/2)\n",
      "w=tp.stationary_weights_distributions(activity_dict,m,1);"
     ],
     "language": "python",
     "metadata": {},
     "outputs": [
      {
       "output_type": "stream",
       "stream": "stdout",
       "text": [
        "0.000950087695798\n",
        "0.0001 1\n"
       ]
      }
     ],
     "prompt_number": 5
    },
    {
     "cell_type": "code",
     "collapsed": false,
     "input": [
      "M_series=tp.calculate_transition_matrices(TG);"
     ],
     "language": "python",
     "metadata": {},
     "outputs": [],
     "prompt_number": 6
    },
    {
     "cell_type": "heading",
     "level": 1,
     "metadata": {},
     "source": [
      "Partition construction"
     ]
    },
    {
     "cell_type": "code",
     "collapsed": false,
     "input": [
      "part_all={};\n",
      "part_single={}\n",
      "part_all[0]={};\n",
      "part_single[0]={};\n",
      "part_blocks={};\n",
      "part_blocks[0]={}\n",
      "num_nodes=TG[1].number_of_nodes()\n",
      "for i in range(num_nodes):\n",
      "    part_all[0][i]=0;\n",
      "    part_single[0][i]=i;\n",
      "    if i<num_nodes/2:\n",
      "        part_blocks[0][i]=0;\n",
      "    else:\n",
      "        part_blocks[0][i]=1;\n"
     ],
     "language": "python",
     "metadata": {},
     "outputs": [],
     "prompt_number": 7
    },
    {
     "cell_type": "code",
     "collapsed": false,
     "input": [
      "omega=0.3;\n",
      "Exp_w_omega=tp.exponential_weighted_aggregated_temporal_graph(TG,omega);\n",
      "import igraph as ig\n",
      "nx.write_pajek(Exp_w_omega,'temp_graph.net');\n",
      "expg=ig.read('temp_graph.net',format=\"pajek\")\n",
      "os.remove('temp_graph.net');\n",
      "\n",
      "expQ=expg.community_spinglass();\n",
      "part_expq={};\n",
      "part_expq[0]={}\n",
      "print expQ\n",
      "for i,mem in enumerate(expQ.membership):\n",
      "        part_expq[0][i]=[];\n",
      "        part_expq[0][i]=mem;"
     ],
     "language": "python",
     "metadata": {},
     "outputs": [
      {
       "output_type": "stream",
       "stream": "stdout",
       "text": [
        "Clustering with 20 elements and 2 clusters\n",
        "[0] 10, 11, 12, 13, 14, 15, 16, 17, 18, 19\n",
        "[1] 0, 1, 2, 3, 4, 5, 6, 7, 8, 9\n"
       ]
      }
     ],
     "prompt_number": 8
    },
    {
     "cell_type": "code",
     "collapsed": false,
     "input": [
      "new_graph=tp.aggregate_graph(TG);\n",
      "print new_graph.number_of_nodes();\n",
      "import igraph as ig\n",
      "nx.write_pajek(new_graph,'temp_graph.net');\n",
      "g=ig.read('temp_graph.net',format=\"pajek\")\n",
      "os.remove('temp_graph.net');\n",
      "\n",
      "Q=g.community_spinglass()\n",
      "part_q={};\n",
      "print Q\n",
      "for i,mem in enumerate(Q.membership):\n",
      "        part_q[i]=[];\n",
      "        part_q[i]=mem;\n",
      "part_aggr={}\n",
      "part_aggr[0]=part_q;"
     ],
     "language": "python",
     "metadata": {},
     "outputs": [
      {
       "output_type": "stream",
       "stream": "stdout",
       "text": [
        "20\n",
        "Clustering with 20 elements and 3 clusters\n",
        "[0] 10, 11, 12, 13, 14, 15, 16, 17, 19\n",
        "[1] 18\n",
        "[2] 0, 1, 2, 3, 4, 5, 6, 7, 8, 9"
       ]
      },
      {
       "output_type": "stream",
       "stream": "stdout",
       "text": [
        "\n"
       ]
      }
     ],
     "prompt_number": 9
    },
    {
     "cell_type": "heading",
     "level": 2,
     "metadata": {},
     "source": [
      "Optimal partition\n"
     ]
    },
    {
     "cell_type": "code",
     "collapsed": false,
     "input": [
      "import gc\n",
      "import time\n",
      "partitions_dict={}\n",
      "interesting_deltas=range(0,len(TG));\n",
      "starting_year=np.min(TG.keys());\n",
      "final_year=np.max(TG.keys());\n",
      "sm=tp.stationary_matrix(w);\n",
      "print 'Starting calculations of optimal partition...';\n",
      "for t in sorted(TG.keys()):\n",
      "#    print 'Starting time ', t;\n",
      "    c = time.clock()\n",
      "    partitions_dict[t]={}\n",
      "    mat=M_series[t];\n",
      "    for k in range(max(interesting_deltas)):\n",
      "        if t+k<final_year:\n",
      "            mat=np.dot(mat,M_series[t+k]);\n",
      "            if k in interesting_deltas:\n",
      "                partitions_dict[t][k]=tp.t_delta_partition(mat,sm);\n",
      "    print 'Completed time ', t;\n",
      "    del mat;\n",
      "    del c;\n",
      "    gc.collect();\n"
     ],
     "language": "python",
     "metadata": {},
     "outputs": [
      {
       "output_type": "stream",
       "stream": "stdout",
       "text": [
        "Starting calculations of optimal partition...\n",
        "Completed time "
       ]
      },
      {
       "output_type": "stream",
       "stream": "stdout",
       "text": [
        " 0\n",
        "Completed time "
       ]
      },
      {
       "output_type": "stream",
       "stream": "stdout",
       "text": [
        " 1\n",
        "Completed time "
       ]
      },
      {
       "output_type": "stream",
       "stream": "stdout",
       "text": [
        " 2\n",
        "Completed time "
       ]
      },
      {
       "output_type": "stream",
       "stream": "stdout",
       "text": [
        " 3\n",
        "Completed time "
       ]
      },
      {
       "output_type": "stream",
       "stream": "stdout",
       "text": [
        " 4\n",
        "Completed time "
       ]
      },
      {
       "output_type": "stream",
       "stream": "stdout",
       "text": [
        " 5\n",
        "Completed time "
       ]
      },
      {
       "output_type": "stream",
       "stream": "stdout",
       "text": [
        " 6\n",
        "Completed time "
       ]
      },
      {
       "output_type": "stream",
       "stream": "stdout",
       "text": [
        " 7\n",
        "Completed time "
       ]
      },
      {
       "output_type": "stream",
       "stream": "stdout",
       "text": [
        " 8\n",
        "Completed time "
       ]
      },
      {
       "output_type": "stream",
       "stream": "stdout",
       "text": [
        " 9\n",
        "Completed time "
       ]
      },
      {
       "output_type": "stream",
       "stream": "stdout",
       "text": [
        " 10\n",
        "Completed time "
       ]
      },
      {
       "output_type": "stream",
       "stream": "stdout",
       "text": [
        " 11\n",
        "Completed time "
       ]
      },
      {
       "output_type": "stream",
       "stream": "stdout",
       "text": [
        " 12\n",
        "Completed time "
       ]
      },
      {
       "output_type": "stream",
       "stream": "stdout",
       "text": [
        " 13\n",
        "Completed time "
       ]
      },
      {
       "output_type": "stream",
       "stream": "stdout",
       "text": [
        " 14\n",
        "Completed time "
       ]
      },
      {
       "output_type": "stream",
       "stream": "stdout",
       "text": [
        " 15\n",
        "Completed time "
       ]
      },
      {
       "output_type": "stream",
       "stream": "stdout",
       "text": [
        " 16\n",
        "Completed time "
       ]
      },
      {
       "output_type": "stream",
       "stream": "stdout",
       "text": [
        " 17\n",
        "Completed time "
       ]
      },
      {
       "output_type": "stream",
       "stream": "stdout",
       "text": [
        " 18\n",
        "Completed time "
       ]
      },
      {
       "output_type": "stream",
       "stream": "stdout",
       "text": [
        " 19\n",
        "Completed time "
       ]
      },
      {
       "output_type": "stream",
       "stream": "stdout",
       "text": [
        " 20\n",
        "Completed time "
       ]
      },
      {
       "output_type": "stream",
       "stream": "stdout",
       "text": [
        " 21\n",
        "Completed time "
       ]
      },
      {
       "output_type": "stream",
       "stream": "stdout",
       "text": [
        " 22\n",
        "Completed time "
       ]
      },
      {
       "output_type": "stream",
       "stream": "stdout",
       "text": [
        " 23\n",
        "Completed time "
       ]
      },
      {
       "output_type": "stream",
       "stream": "stdout",
       "text": [
        " 24\n",
        "Completed time "
       ]
      },
      {
       "output_type": "stream",
       "stream": "stdout",
       "text": [
        " 25\n",
        "Completed time "
       ]
      },
      {
       "output_type": "stream",
       "stream": "stdout",
       "text": [
        " 26\n",
        "Completed time "
       ]
      },
      {
       "output_type": "stream",
       "stream": "stdout",
       "text": [
        " 27\n",
        "Completed time "
       ]
      },
      {
       "output_type": "stream",
       "stream": "stdout",
       "text": [
        " 28\n",
        "Completed time "
       ]
      },
      {
       "output_type": "stream",
       "stream": "stdout",
       "text": [
        " 29\n",
        "Completed time "
       ]
      },
      {
       "output_type": "stream",
       "stream": "stdout",
       "text": [
        " 30\n",
        "Completed time "
       ]
      },
      {
       "output_type": "stream",
       "stream": "stdout",
       "text": [
        " 31\n",
        "Completed time "
       ]
      },
      {
       "output_type": "stream",
       "stream": "stdout",
       "text": [
        " 32\n",
        "Completed time "
       ]
      },
      {
       "output_type": "stream",
       "stream": "stdout",
       "text": [
        " 33\n",
        "Completed time "
       ]
      },
      {
       "output_type": "stream",
       "stream": "stdout",
       "text": [
        " 34\n",
        "Completed time "
       ]
      },
      {
       "output_type": "stream",
       "stream": "stdout",
       "text": [
        " 35\n",
        "Completed time "
       ]
      },
      {
       "output_type": "stream",
       "stream": "stdout",
       "text": [
        " 36\n",
        "Completed time "
       ]
      },
      {
       "output_type": "stream",
       "stream": "stdout",
       "text": [
        " 37\n",
        "Completed time "
       ]
      },
      {
       "output_type": "stream",
       "stream": "stdout",
       "text": [
        " 38\n",
        "Completed time "
       ]
      },
      {
       "output_type": "stream",
       "stream": "stdout",
       "text": [
        " 39\n",
        "Completed time "
       ]
      },
      {
       "output_type": "stream",
       "stream": "stdout",
       "text": [
        " 40\n",
        "Completed time "
       ]
      },
      {
       "output_type": "stream",
       "stream": "stdout",
       "text": [
        " 41\n",
        "Completed time "
       ]
      },
      {
       "output_type": "stream",
       "stream": "stdout",
       "text": [
        " 42\n",
        "Completed time "
       ]
      },
      {
       "output_type": "stream",
       "stream": "stdout",
       "text": [
        " 43\n",
        "Completed time "
       ]
      },
      {
       "output_type": "stream",
       "stream": "stdout",
       "text": [
        " 44\n",
        "Completed time "
       ]
      },
      {
       "output_type": "stream",
       "stream": "stdout",
       "text": [
        " 45\n",
        "Completed time "
       ]
      },
      {
       "output_type": "stream",
       "stream": "stdout",
       "text": [
        " 46\n",
        "Completed time "
       ]
      },
      {
       "output_type": "stream",
       "stream": "stdout",
       "text": [
        " 47\n",
        "Completed time "
       ]
      },
      {
       "output_type": "stream",
       "stream": "stdout",
       "text": [
        " 48\n",
        "Completed time "
       ]
      },
      {
       "output_type": "stream",
       "stream": "stdout",
       "text": [
        " 49\n",
        "Completed time "
       ]
      },
      {
       "output_type": "stream",
       "stream": "stdout",
       "text": [
        " 50\n",
        "Completed time "
       ]
      },
      {
       "output_type": "stream",
       "stream": "stdout",
       "text": [
        " 51\n",
        "Completed time "
       ]
      },
      {
       "output_type": "stream",
       "stream": "stdout",
       "text": [
        " 52\n",
        "Completed time "
       ]
      },
      {
       "output_type": "stream",
       "stream": "stdout",
       "text": [
        " 53\n",
        "Completed time "
       ]
      },
      {
       "output_type": "stream",
       "stream": "stdout",
       "text": [
        " 54\n",
        "Completed time "
       ]
      },
      {
       "output_type": "stream",
       "stream": "stdout",
       "text": [
        " 55\n",
        "Completed time "
       ]
      },
      {
       "output_type": "stream",
       "stream": "stdout",
       "text": [
        " 56\n",
        "Completed time "
       ]
      },
      {
       "output_type": "stream",
       "stream": "stdout",
       "text": [
        " 57\n",
        "Completed time "
       ]
      },
      {
       "output_type": "stream",
       "stream": "stdout",
       "text": [
        " 58\n",
        "Completed time "
       ]
      },
      {
       "output_type": "stream",
       "stream": "stdout",
       "text": [
        " 59\n",
        "Completed time "
       ]
      },
      {
       "output_type": "stream",
       "stream": "stdout",
       "text": [
        " 60\n",
        "Completed time "
       ]
      },
      {
       "output_type": "stream",
       "stream": "stdout",
       "text": [
        " 61\n",
        "Completed time "
       ]
      },
      {
       "output_type": "stream",
       "stream": "stdout",
       "text": [
        " 62\n",
        "Completed time "
       ]
      },
      {
       "output_type": "stream",
       "stream": "stdout",
       "text": [
        " 63\n",
        "Completed time "
       ]
      },
      {
       "output_type": "stream",
       "stream": "stdout",
       "text": [
        " 64\n",
        "Completed time "
       ]
      },
      {
       "output_type": "stream",
       "stream": "stdout",
       "text": [
        " 65\n",
        "Completed time "
       ]
      },
      {
       "output_type": "stream",
       "stream": "stdout",
       "text": [
        " 66\n",
        "Completed time "
       ]
      },
      {
       "output_type": "stream",
       "stream": "stdout",
       "text": [
        " 67\n",
        "Completed time "
       ]
      },
      {
       "output_type": "stream",
       "stream": "stdout",
       "text": [
        " 68\n",
        "Completed time "
       ]
      },
      {
       "output_type": "stream",
       "stream": "stdout",
       "text": [
        " 69\n",
        "Completed time "
       ]
      },
      {
       "output_type": "stream",
       "stream": "stdout",
       "text": [
        " 70\n",
        "Completed time "
       ]
      },
      {
       "output_type": "stream",
       "stream": "stdout",
       "text": [
        " 71\n",
        "Completed time "
       ]
      },
      {
       "output_type": "stream",
       "stream": "stdout",
       "text": [
        " 72\n",
        "Completed time "
       ]
      },
      {
       "output_type": "stream",
       "stream": "stdout",
       "text": [
        " 73\n",
        "Completed time "
       ]
      },
      {
       "output_type": "stream",
       "stream": "stdout",
       "text": [
        " 74\n",
        "Completed time "
       ]
      },
      {
       "output_type": "stream",
       "stream": "stdout",
       "text": [
        " 75\n",
        "Completed time "
       ]
      },
      {
       "output_type": "stream",
       "stream": "stdout",
       "text": [
        " 76\n",
        "Completed time "
       ]
      },
      {
       "output_type": "stream",
       "stream": "stdout",
       "text": [
        " 77\n",
        "Completed time "
       ]
      },
      {
       "output_type": "stream",
       "stream": "stdout",
       "text": [
        " 78\n",
        "Completed time "
       ]
      },
      {
       "output_type": "stream",
       "stream": "stdout",
       "text": [
        " 79\n",
        "Completed time "
       ]
      },
      {
       "output_type": "stream",
       "stream": "stdout",
       "text": [
        " 80\n",
        "Completed time "
       ]
      },
      {
       "output_type": "stream",
       "stream": "stdout",
       "text": [
        " 81\n",
        "Completed time "
       ]
      },
      {
       "output_type": "stream",
       "stream": "stdout",
       "text": [
        " 82\n",
        "Completed time "
       ]
      },
      {
       "output_type": "stream",
       "stream": "stdout",
       "text": [
        " 83\n",
        "Completed time "
       ]
      },
      {
       "output_type": "stream",
       "stream": "stdout",
       "text": [
        " 84\n",
        "Completed time "
       ]
      },
      {
       "output_type": "stream",
       "stream": "stdout",
       "text": [
        " 85\n",
        "Completed time "
       ]
      },
      {
       "output_type": "stream",
       "stream": "stdout",
       "text": [
        " 86\n",
        "Completed time "
       ]
      },
      {
       "output_type": "stream",
       "stream": "stdout",
       "text": [
        " 87\n",
        "Completed time "
       ]
      },
      {
       "output_type": "stream",
       "stream": "stdout",
       "text": [
        " 88\n",
        "Completed time "
       ]
      },
      {
       "output_type": "stream",
       "stream": "stdout",
       "text": [
        " 89\n",
        "Completed time "
       ]
      },
      {
       "output_type": "stream",
       "stream": "stdout",
       "text": [
        " 90\n",
        "Completed time "
       ]
      },
      {
       "output_type": "stream",
       "stream": "stdout",
       "text": [
        " 91\n",
        "Completed time "
       ]
      },
      {
       "output_type": "stream",
       "stream": "stdout",
       "text": [
        " 92\n",
        "Completed time "
       ]
      },
      {
       "output_type": "stream",
       "stream": "stdout",
       "text": [
        " 93\n",
        "Completed time "
       ]
      },
      {
       "output_type": "stream",
       "stream": "stdout",
       "text": [
        " 94\n",
        "Completed time "
       ]
      },
      {
       "output_type": "stream",
       "stream": "stdout",
       "text": [
        " 95\n",
        "Completed time "
       ]
      },
      {
       "output_type": "stream",
       "stream": "stdout",
       "text": [
        " 96\n",
        "Completed time "
       ]
      },
      {
       "output_type": "stream",
       "stream": "stdout",
       "text": [
        " 97\n",
        "Completed time "
       ]
      },
      {
       "output_type": "stream",
       "stream": "stdout",
       "text": [
        " 98\n",
        "Completed time "
       ]
      },
      {
       "output_type": "stream",
       "stream": "stdout",
       "text": [
        " 99\n",
        "Completed time "
       ]
      },
      {
       "output_type": "stream",
       "stream": "stdout",
       "text": [
        " 100\n",
        "Completed time "
       ]
      },
      {
       "output_type": "stream",
       "stream": "stdout",
       "text": [
        " 101\n",
        "Completed time "
       ]
      },
      {
       "output_type": "stream",
       "stream": "stdout",
       "text": [
        " 102\n",
        "Completed time "
       ]
      },
      {
       "output_type": "stream",
       "stream": "stdout",
       "text": [
        " 103\n",
        "Completed time "
       ]
      },
      {
       "output_type": "stream",
       "stream": "stdout",
       "text": [
        " 104\n",
        "Completed time "
       ]
      },
      {
       "output_type": "stream",
       "stream": "stdout",
       "text": [
        " 105\n",
        "Completed time "
       ]
      },
      {
       "output_type": "stream",
       "stream": "stdout",
       "text": [
        " 106\n",
        "Completed time "
       ]
      },
      {
       "output_type": "stream",
       "stream": "stdout",
       "text": [
        " 107\n",
        "Completed time "
       ]
      },
      {
       "output_type": "stream",
       "stream": "stdout",
       "text": [
        " 108\n",
        "Completed time "
       ]
      },
      {
       "output_type": "stream",
       "stream": "stdout",
       "text": [
        " 109\n",
        "Completed time "
       ]
      },
      {
       "output_type": "stream",
       "stream": "stdout",
       "text": [
        " 110\n",
        "Completed time "
       ]
      },
      {
       "output_type": "stream",
       "stream": "stdout",
       "text": [
        " 111\n",
        "Completed time "
       ]
      },
      {
       "output_type": "stream",
       "stream": "stdout",
       "text": [
        " 112\n",
        "Completed time "
       ]
      },
      {
       "output_type": "stream",
       "stream": "stdout",
       "text": [
        " 113\n",
        "Completed time "
       ]
      },
      {
       "output_type": "stream",
       "stream": "stdout",
       "text": [
        " 114\n",
        "Completed time "
       ]
      },
      {
       "output_type": "stream",
       "stream": "stdout",
       "text": [
        " 115\n",
        "Completed time "
       ]
      },
      {
       "output_type": "stream",
       "stream": "stdout",
       "text": [
        " 116\n",
        "Completed time "
       ]
      },
      {
       "output_type": "stream",
       "stream": "stdout",
       "text": [
        " 117\n",
        "Completed time "
       ]
      },
      {
       "output_type": "stream",
       "stream": "stdout",
       "text": [
        " 118\n",
        "Completed time "
       ]
      },
      {
       "output_type": "stream",
       "stream": "stdout",
       "text": [
        " 119\n",
        "Completed time "
       ]
      },
      {
       "output_type": "stream",
       "stream": "stdout",
       "text": [
        " 120\n",
        "Completed time "
       ]
      },
      {
       "output_type": "stream",
       "stream": "stdout",
       "text": [
        " 121\n",
        "Completed time "
       ]
      },
      {
       "output_type": "stream",
       "stream": "stdout",
       "text": [
        " 122\n",
        "Completed time "
       ]
      },
      {
       "output_type": "stream",
       "stream": "stdout",
       "text": [
        " 123\n",
        "Completed time "
       ]
      },
      {
       "output_type": "stream",
       "stream": "stdout",
       "text": [
        " 124\n",
        "Completed time "
       ]
      },
      {
       "output_type": "stream",
       "stream": "stdout",
       "text": [
        " 125\n",
        "Completed time "
       ]
      },
      {
       "output_type": "stream",
       "stream": "stdout",
       "text": [
        " 126\n",
        "Completed time "
       ]
      },
      {
       "output_type": "stream",
       "stream": "stdout",
       "text": [
        " 127\n",
        "Completed time "
       ]
      },
      {
       "output_type": "stream",
       "stream": "stdout",
       "text": [
        " 128\n",
        "Completed time "
       ]
      },
      {
       "output_type": "stream",
       "stream": "stdout",
       "text": [
        " 129\n",
        "Completed time "
       ]
      },
      {
       "output_type": "stream",
       "stream": "stdout",
       "text": [
        " 130\n",
        "Completed time "
       ]
      },
      {
       "output_type": "stream",
       "stream": "stdout",
       "text": [
        " 131\n",
        "Completed time "
       ]
      },
      {
       "output_type": "stream",
       "stream": "stdout",
       "text": [
        " 132\n",
        "Completed time "
       ]
      },
      {
       "output_type": "stream",
       "stream": "stdout",
       "text": [
        " 133\n",
        "Completed time "
       ]
      },
      {
       "output_type": "stream",
       "stream": "stdout",
       "text": [
        " 134\n",
        "Completed time "
       ]
      },
      {
       "output_type": "stream",
       "stream": "stdout",
       "text": [
        " 135\n",
        "Completed time "
       ]
      },
      {
       "output_type": "stream",
       "stream": "stdout",
       "text": [
        " 136\n",
        "Completed time "
       ]
      },
      {
       "output_type": "stream",
       "stream": "stdout",
       "text": [
        " 137\n",
        "Completed time "
       ]
      },
      {
       "output_type": "stream",
       "stream": "stdout",
       "text": [
        " 138\n",
        "Completed time "
       ]
      },
      {
       "output_type": "stream",
       "stream": "stdout",
       "text": [
        " 139\n",
        "Completed time "
       ]
      },
      {
       "output_type": "stream",
       "stream": "stdout",
       "text": [
        " 140\n",
        "Completed time "
       ]
      },
      {
       "output_type": "stream",
       "stream": "stdout",
       "text": [
        " 141\n",
        "Completed time "
       ]
      },
      {
       "output_type": "stream",
       "stream": "stdout",
       "text": [
        " 142\n",
        "Completed time "
       ]
      },
      {
       "output_type": "stream",
       "stream": "stdout",
       "text": [
        " 143\n",
        "Completed time "
       ]
      },
      {
       "output_type": "stream",
       "stream": "stdout",
       "text": [
        " 144\n",
        "Completed time "
       ]
      },
      {
       "output_type": "stream",
       "stream": "stdout",
       "text": [
        " 145\n",
        "Completed time "
       ]
      },
      {
       "output_type": "stream",
       "stream": "stdout",
       "text": [
        " 146\n",
        "Completed time "
       ]
      },
      {
       "output_type": "stream",
       "stream": "stdout",
       "text": [
        " 147\n",
        "Completed time "
       ]
      },
      {
       "output_type": "stream",
       "stream": "stdout",
       "text": [
        " 148\n",
        "Completed time "
       ]
      },
      {
       "output_type": "stream",
       "stream": "stdout",
       "text": [
        " 149\n",
        "Completed time "
       ]
      },
      {
       "output_type": "stream",
       "stream": "stdout",
       "text": [
        " 150\n",
        "Completed time "
       ]
      },
      {
       "output_type": "stream",
       "stream": "stdout",
       "text": [
        " 151\n",
        "Completed time "
       ]
      },
      {
       "output_type": "stream",
       "stream": "stdout",
       "text": [
        " 152\n",
        "Completed time "
       ]
      },
      {
       "output_type": "stream",
       "stream": "stdout",
       "text": [
        " 153\n",
        "Completed time "
       ]
      },
      {
       "output_type": "stream",
       "stream": "stdout",
       "text": [
        " 154\n",
        "Completed time "
       ]
      },
      {
       "output_type": "stream",
       "stream": "stdout",
       "text": [
        " 155\n",
        "Completed time "
       ]
      },
      {
       "output_type": "stream",
       "stream": "stdout",
       "text": [
        " 156\n",
        "Completed time "
       ]
      },
      {
       "output_type": "stream",
       "stream": "stdout",
       "text": [
        " 157\n",
        "Completed time "
       ]
      },
      {
       "output_type": "stream",
       "stream": "stdout",
       "text": [
        " 158\n",
        "Completed time "
       ]
      },
      {
       "output_type": "stream",
       "stream": "stdout",
       "text": [
        " 159\n",
        "Completed time "
       ]
      },
      {
       "output_type": "stream",
       "stream": "stdout",
       "text": [
        " 160\n",
        "Completed time "
       ]
      },
      {
       "output_type": "stream",
       "stream": "stdout",
       "text": [
        " 161\n",
        "Completed time "
       ]
      },
      {
       "output_type": "stream",
       "stream": "stdout",
       "text": [
        " 162\n",
        "Completed time "
       ]
      },
      {
       "output_type": "stream",
       "stream": "stdout",
       "text": [
        " 163\n",
        "Completed time "
       ]
      },
      {
       "output_type": "stream",
       "stream": "stdout",
       "text": [
        " 164\n",
        "Completed time "
       ]
      },
      {
       "output_type": "stream",
       "stream": "stdout",
       "text": [
        " 165\n",
        "Completed time "
       ]
      },
      {
       "output_type": "stream",
       "stream": "stdout",
       "text": [
        " 166\n",
        "Completed time "
       ]
      },
      {
       "output_type": "stream",
       "stream": "stdout",
       "text": [
        " 167\n",
        "Completed time "
       ]
      },
      {
       "output_type": "stream",
       "stream": "stdout",
       "text": [
        " 168\n",
        "Completed time "
       ]
      },
      {
       "output_type": "stream",
       "stream": "stdout",
       "text": [
        " 169\n",
        "Completed time "
       ]
      },
      {
       "output_type": "stream",
       "stream": "stdout",
       "text": [
        " 170\n",
        "Completed time "
       ]
      },
      {
       "output_type": "stream",
       "stream": "stdout",
       "text": [
        " 171\n",
        "Completed time "
       ]
      },
      {
       "output_type": "stream",
       "stream": "stdout",
       "text": [
        " 172\n",
        "Completed time "
       ]
      },
      {
       "output_type": "stream",
       "stream": "stdout",
       "text": [
        " 173\n",
        "Completed time "
       ]
      },
      {
       "output_type": "stream",
       "stream": "stdout",
       "text": [
        " 174\n",
        "Completed time "
       ]
      },
      {
       "output_type": "stream",
       "stream": "stdout",
       "text": [
        " 175\n",
        "Completed time "
       ]
      },
      {
       "output_type": "stream",
       "stream": "stdout",
       "text": [
        " 176\n",
        "Completed time "
       ]
      },
      {
       "output_type": "stream",
       "stream": "stdout",
       "text": [
        " 177\n",
        "Completed time "
       ]
      },
      {
       "output_type": "stream",
       "stream": "stdout",
       "text": [
        " 178\n",
        "Completed time "
       ]
      },
      {
       "output_type": "stream",
       "stream": "stdout",
       "text": [
        " 179\n",
        "Completed time "
       ]
      },
      {
       "output_type": "stream",
       "stream": "stdout",
       "text": [
        " 180\n",
        "Completed time "
       ]
      },
      {
       "output_type": "stream",
       "stream": "stdout",
       "text": [
        " 181\n",
        "Completed time "
       ]
      },
      {
       "output_type": "stream",
       "stream": "stdout",
       "text": [
        " 182\n",
        "Completed time "
       ]
      },
      {
       "output_type": "stream",
       "stream": "stdout",
       "text": [
        " 183\n",
        "Completed time "
       ]
      },
      {
       "output_type": "stream",
       "stream": "stdout",
       "text": [
        " 184\n",
        "Completed time "
       ]
      },
      {
       "output_type": "stream",
       "stream": "stdout",
       "text": [
        " 185\n",
        "Completed time "
       ]
      },
      {
       "output_type": "stream",
       "stream": "stdout",
       "text": [
        " 186\n",
        "Completed time "
       ]
      },
      {
       "output_type": "stream",
       "stream": "stdout",
       "text": [
        " 187\n",
        "Completed time "
       ]
      },
      {
       "output_type": "stream",
       "stream": "stdout",
       "text": [
        " 188\n",
        "Completed time "
       ]
      },
      {
       "output_type": "stream",
       "stream": "stdout",
       "text": [
        " 189\n",
        "Completed time "
       ]
      },
      {
       "output_type": "stream",
       "stream": "stdout",
       "text": [
        " 190\n",
        "Completed time "
       ]
      },
      {
       "output_type": "stream",
       "stream": "stdout",
       "text": [
        " 191\n",
        "Completed time "
       ]
      },
      {
       "output_type": "stream",
       "stream": "stdout",
       "text": [
        " 192\n",
        "Completed time "
       ]
      },
      {
       "output_type": "stream",
       "stream": "stdout",
       "text": [
        " 193\n",
        "Completed time "
       ]
      },
      {
       "output_type": "stream",
       "stream": "stdout",
       "text": [
        " 194\n",
        "Completed time "
       ]
      },
      {
       "output_type": "stream",
       "stream": "stdout",
       "text": [
        " 195\n",
        "Completed time "
       ]
      },
      {
       "output_type": "stream",
       "stream": "stdout",
       "text": [
        " 196\n",
        "Completed time "
       ]
      },
      {
       "output_type": "stream",
       "stream": "stdout",
       "text": [
        " 197\n",
        "Completed time "
       ]
      },
      {
       "output_type": "stream",
       "stream": "stdout",
       "text": [
        " 198\n",
        "Completed time "
       ]
      },
      {
       "output_type": "stream",
       "stream": "stdout",
       "text": [
        " 199\n",
        "Completed time "
       ]
      },
      {
       "output_type": "stream",
       "stream": "stdout",
       "text": [
        " 200\n",
        "Completed time "
       ]
      },
      {
       "output_type": "stream",
       "stream": "stdout",
       "text": [
        " 201\n",
        "Completed time "
       ]
      },
      {
       "output_type": "stream",
       "stream": "stdout",
       "text": [
        " 202\n",
        "Completed time "
       ]
      },
      {
       "output_type": "stream",
       "stream": "stdout",
       "text": [
        " 203\n",
        "Completed time "
       ]
      },
      {
       "output_type": "stream",
       "stream": "stdout",
       "text": [
        " 204\n",
        "Completed time "
       ]
      },
      {
       "output_type": "stream",
       "stream": "stdout",
       "text": [
        " 205\n",
        "Completed time  "
       ]
      },
      {
       "output_type": "stream",
       "stream": "stdout",
       "text": [
        "206\n",
        "Completed time  207\n",
        "Completed time "
       ]
      },
      {
       "output_type": "stream",
       "stream": "stdout",
       "text": [
        " 208\n",
        "Completed time  209\n"
       ]
      }
     ],
     "prompt_number": 10
    },
    {
     "cell_type": "heading",
     "level": 2,
     "metadata": {},
     "source": [
      "Intervals and projections"
     ]
    },
    {
     "cell_type": "code",
     "collapsed": false,
     "input": [
      "intervals=[0,1,10,20,40,80,100];"
     ],
     "language": "python",
     "metadata": {},
     "outputs": [],
     "prompt_number": 11
    },
    {
     "cell_type": "code",
     "collapsed": false,
     "input": [
      "all_partition_projected  = tp.temporal_projected_stationary_stability(TG,M_series, w, intervals, part_all, show_fig=False)"
     ],
     "language": "python",
     "metadata": {},
     "outputs": [
      {
       "output_type": "stream",
       "stream": "stdout",
       "text": [
        "0\n",
        "1\n",
        "10\n",
        "20"
       ]
      },
      {
       "output_type": "stream",
       "stream": "stdout",
       "text": [
        "\n",
        "40\n",
        "80"
       ]
      },
      {
       "output_type": "stream",
       "stream": "stdout",
       "text": [
        "\n",
        "100"
       ]
      },
      {
       "output_type": "stream",
       "stream": "stdout",
       "text": [
        "\n"
       ]
      }
     ],
     "prompt_number": 12
    },
    {
     "cell_type": "code",
     "collapsed": false,
     "input": [
      "single_partition_proj=tp.temporal_projected_stationary_stability(TG,M_series, w, intervals, part_single, show_fig=False)\n",
      "aggr_partition_proj=tp.temporal_projected_stationary_stability(TG,M_series, w, intervals, part_aggr, show_fig=False)"
     ],
     "language": "python",
     "metadata": {},
     "outputs": [
      {
       "output_type": "stream",
       "stream": "stdout",
       "text": [
        "0\n",
        "1\n",
        "10\n",
        "20"
       ]
      },
      {
       "output_type": "stream",
       "stream": "stdout",
       "text": [
        "\n",
        "40\n",
        "80"
       ]
      },
      {
       "output_type": "stream",
       "stream": "stdout",
       "text": [
        "\n",
        "100"
       ]
      },
      {
       "output_type": "stream",
       "stream": "stdout",
       "text": [
        "\n",
        "0"
       ]
      },
      {
       "output_type": "stream",
       "stream": "stdout",
       "text": [
        "\n",
        "1\n",
        "10\n",
        "20"
       ]
      },
      {
       "output_type": "stream",
       "stream": "stdout",
       "text": [
        "\n",
        "40\n",
        "80"
       ]
      },
      {
       "output_type": "stream",
       "stream": "stdout",
       "text": [
        "\n",
        "100"
       ]
      },
      {
       "output_type": "stream",
       "stream": "stdout",
       "text": [
        "\n"
       ]
      }
     ],
     "prompt_number": 13
    },
    {
     "cell_type": "code",
     "collapsed": false,
     "input": [
      "block_partition_proj=tp.temporal_projected_stationary_stability(TG,M_series, w, intervals, part_blocks, show_fig=False)"
     ],
     "language": "python",
     "metadata": {},
     "outputs": [
      {
       "output_type": "stream",
       "stream": "stdout",
       "text": [
        "0\n",
        "1\n",
        "10\n",
        "20"
       ]
      },
      {
       "output_type": "stream",
       "stream": "stdout",
       "text": [
        "\n",
        "40"
       ]
      },
      {
       "output_type": "stream",
       "stream": "stdout",
       "text": [
        "\n",
        "80"
       ]
      },
      {
       "output_type": "stream",
       "stream": "stdout",
       "text": [
        "\n",
        "100"
       ]
      },
      {
       "output_type": "stream",
       "stream": "stdout",
       "text": [
        "\n"
       ]
      }
     ],
     "prompt_number": 14
    },
    {
     "cell_type": "code",
     "collapsed": false,
     "input": [
      "slice_partitions={};\n",
      "\n",
      "for d in intervals[2:]:\n",
      "    print 'Calculating partition for slice width ', str(d);\n",
      "    slice_partitions[d]= tp.slice_temporal_modularity_partition(TG,d)\n"
     ],
     "language": "python",
     "metadata": {},
     "outputs": [
      {
       "output_type": "stream",
       "stream": "stdout",
       "text": [
        "Calculating partition for slice width  10\n",
        "Calculating partition for slice width "
       ]
      },
      {
       "output_type": "stream",
       "stream": "stdout",
       "text": [
        " 20\n",
        "Calculating partition for slice width  40\n",
        "Calculating partition for slice width "
       ]
      },
      {
       "output_type": "stream",
       "stream": "stdout",
       "text": [
        " 80\n",
        "Calculating partition for slice width  100\n"
       ]
      }
     ],
     "prompt_number": 15
    },
    {
     "cell_type": "code",
     "collapsed": false,
     "input": [
      "Relabel_dict={};\n",
      "\n",
      "for i,n in enumerate(TG[0].nodes()):\n",
      "    Relabel_dict[n]=i;\n",
      "    \n",
      "TG_relabel={};\n",
      "for t in TG:\n",
      "    TG_relabel[t]=nx.relabel_nodes(TG[t],Relabel_dict);\n",
      "    \n",
      "slice_partitions_int={}\n",
      "for sli in slice_partitions:\n",
      "    slice_partitions_int[sli]={}\n",
      "    for y in slice_partitions[sli]:\n",
      "        slice_partitions_int[sli][y]={};\n",
      "        for n in slice_partitions[sli][y]:\n",
      "            slice_partitions_int[sli][y][Relabel_dict[n]]=slice_partitions[sli][y][n];\n",
      "        "
     ],
     "language": "python",
     "metadata": {},
     "outputs": [],
     "prompt_number": 16
    },
    {
     "cell_type": "code",
     "collapsed": false,
     "input": [
      "slice_partition_proj={};\n",
      "for sli in slice_partitions:\n",
      "    slice_partition_proj[sli]=tp.temporal_projected_stationary_stability(TG_relabel,M_series, w, intervals, slice_partitions_int[sli], show_fig=False)"
     ],
     "language": "python",
     "metadata": {},
     "outputs": [
      {
       "output_type": "stream",
       "stream": "stdout",
       "text": [
        "0\n",
        "1\n",
        "10\n",
        "20"
       ]
      },
      {
       "output_type": "stream",
       "stream": "stdout",
       "text": [
        "\n",
        "40\n",
        "80"
       ]
      },
      {
       "output_type": "stream",
       "stream": "stdout",
       "text": [
        "\n",
        "100"
       ]
      },
      {
       "output_type": "stream",
       "stream": "stdout",
       "text": [
        "\n",
        "0"
       ]
      },
      {
       "output_type": "stream",
       "stream": "stdout",
       "text": [
        "\n",
        "1\n",
        "10\n",
        "20"
       ]
      },
      {
       "output_type": "stream",
       "stream": "stdout",
       "text": [
        "\n",
        "40"
       ]
      },
      {
       "output_type": "stream",
       "stream": "stdout",
       "text": [
        "\n",
        "80"
       ]
      },
      {
       "output_type": "stream",
       "stream": "stdout",
       "text": [
        "\n",
        "100"
       ]
      },
      {
       "output_type": "stream",
       "stream": "stdout",
       "text": [
        "\n",
        "0"
       ]
      },
      {
       "output_type": "stream",
       "stream": "stdout",
       "text": [
        "\n",
        "1\n",
        "10\n",
        "20"
       ]
      },
      {
       "output_type": "stream",
       "stream": "stdout",
       "text": [
        "\n",
        "40\n",
        "80"
       ]
      },
      {
       "output_type": "stream",
       "stream": "stdout",
       "text": [
        "\n",
        "100"
       ]
      },
      {
       "output_type": "stream",
       "stream": "stdout",
       "text": [
        "\n",
        "0"
       ]
      },
      {
       "output_type": "stream",
       "stream": "stdout",
       "text": [
        "\n",
        "1\n",
        "10\n",
        "20"
       ]
      },
      {
       "output_type": "stream",
       "stream": "stdout",
       "text": [
        "\n",
        "40\n",
        "80"
       ]
      },
      {
       "output_type": "stream",
       "stream": "stdout",
       "text": [
        "\n",
        "100"
       ]
      },
      {
       "output_type": "stream",
       "stream": "stdout",
       "text": [
        "\n",
        "0"
       ]
      },
      {
       "output_type": "stream",
       "stream": "stdout",
       "text": [
        "\n",
        "1\n",
        "10\n",
        "20"
       ]
      },
      {
       "output_type": "stream",
       "stream": "stdout",
       "text": [
        "\n",
        "40\n",
        "80"
       ]
      },
      {
       "output_type": "stream",
       "stream": "stdout",
       "text": [
        "\n",
        "100"
       ]
      },
      {
       "output_type": "stream",
       "stream": "stdout",
       "text": [
        "\n"
       ]
      }
     ],
     "prompt_number": 17
    },
    {
     "cell_type": "code",
     "collapsed": false,
     "input": [
      "def optimal_stationary_stability(TG,M_matrices, w, tau_values, temporal_partition, show_fig=False):\n",
      "    import gc;\n",
      "    import temporal as tp\n",
      "    proj_R_tau={};\n",
      "    #define at which physical times the partition changes\n",
      "    partition_temporal_swaps = sorted(temporal_partition.keys());\n",
      "    #find number of nodes involved\n",
      "    N=0;\n",
      "    for t in TG:\n",
      "        graph=TG[t];\n",
      "        if graph.number_of_nodes()>N:\n",
      "            N=graph.number_of_nodes();\n",
      "\n",
      "    stationary_matrix=np.zeros((N,N));\n",
      "    for i,n in enumerate(w):\n",
      "        for j,l in enumerate(w):\n",
      "            stationary_matrix[i][j]=n*l;\n",
      "    \n",
      "    \n",
      "    #start of loop on markov times \n",
      "    for tau in tau_values:\n",
      "        print tau;\n",
      "        tr_av=[];\n",
      "        #start of loop on physical times\n",
      "        for t in TG.keys():\n",
      "\n",
      "            #check whether the partition is still the correct one for the physical time\n",
      "            M_disposable=np.eye(N);\n",
      "            if t+tau<np.max(TG.keys()):\n",
      "                H=tp.instant_partition_matrix(temporal_partition[t][tau]);\n",
      "                for i in range(tau):\n",
      "                    M_disposable=np.dot(M_disposable,M_matrices[t+i]);\n",
      "                M_disposable=np.dot(np.diag(w,0),M_disposable) - stationary_matrix;\n",
      "                tr_av.append(np.trace(np.dot(H.T,np.dot(M_disposable,H))));\n",
      "                del H;\n",
      "            del M_disposable;\n",
      "\n",
      "        proj_R_tau[tau] = [];\n",
      "        proj_R_tau[tau] = np.mean(tr_av);\n",
      "        del tr_av;\n",
      "    del stationary_matrix;\n",
      "    gc.collect();\n",
      "    return proj_R_tau;"
     ],
     "language": "python",
     "metadata": {},
     "outputs": [],
     "prompt_number": 18
    },
    {
     "cell_type": "code",
     "collapsed": false,
     "input": [
      "proj_R = optimal_stationary_stability(TG, M_series, w, intervals, partitions_dict);"
     ],
     "language": "python",
     "metadata": {},
     "outputs": [
      {
       "output_type": "stream",
       "stream": "stdout",
       "text": [
        "0\n",
        "1"
       ]
      },
      {
       "output_type": "stream",
       "stream": "stdout",
       "text": [
        "\n",
        "10\n",
        "20"
       ]
      },
      {
       "output_type": "stream",
       "stream": "stdout",
       "text": [
        "\n",
        "40"
       ]
      },
      {
       "output_type": "stream",
       "stream": "stdout",
       "text": [
        "\n",
        "80"
       ]
      },
      {
       "output_type": "stream",
       "stream": "stdout",
       "text": [
        "\n",
        "100"
       ]
      },
      {
       "output_type": "stream",
       "stream": "stdout",
       "text": [
        "\n"
       ]
      }
     ],
     "prompt_number": 19
    },
    {
     "cell_type": "code",
     "collapsed": false,
     "input": [
      "lw=4;\n",
      "ms=12\n",
      "fig=plt.figure(figsize=(15,8));\n",
      "ax=fig.add_subplot(111)\n",
      "mak=['<','>','^','v','d','D']\n",
      "plt.plot(sorted(single_partition_proj.keys()), sorted(single_partition_proj.values(), reverse=True), 'sb-', label='Single nodes',linewidth=lw,markersize=ms);\n",
      "for i,sli in enumerate(intervals[2:]):\n",
      "    plt.plot(sorted(slice_partition_proj[sli].keys()), sorted(slice_partition_proj[sli].values(), reverse=True), '--'+mak[i], label=str(sli)+ ' step slices',linewidth=lw,markersize=ms);\n",
      "\n",
      "plt.plot(sorted(block_partition_proj.keys()), sorted(block_partition_proj.values(), reverse=True), '^g--', label='Two blocks',linewidth=lw,markersize=ms);\n",
      "plt.plot(sorted(aggr_partition_proj.keys()), sorted(aggr_partition_proj.values(), reverse=True), 'o--', label='Aggregate partition',linewidth=lw,markersize=ms);\n",
      "plt.plot(sorted(proj_R.keys()), sorted(proj_R.values(),reverse=True), 'k--', label='Optimal',linewidth=lw,markersize=ms);\n",
      "plt.legend(loc=0,fontsize=15);\n",
      "ylim(0,1)\n",
      "\n",
      "plot(intervals,np.zeros_like(intervals),'--')\n",
      "xlabel(r'$\\tau$', fontsize=35);\n",
      "ylabel(r'$r_\\tau$', fontsize=35);\n",
      "plt.xticks(range(0,120,20), fontsize=20)\n",
      "plt.yticks(np.linspace(0,1,6), fontsize=20)\n",
      "plt.show()"
     ],
     "language": "python",
     "metadata": {},
     "outputs": [
      {
       "metadata": {},
       "output_type": "display_data",
       "png": "[encoded data removed]",
       "text": [
        "<matplotlib.figure.Figure at 0x1123aa450>"
       ]
      }
     ],
     "prompt_number": 20
    },
    {
     "cell_type": "code",
     "collapsed": false,
     "input": [
      "X,Y,U=tp.VI_quiver_data(partitions_dict);\n",
      "from numpy import copy;\n",
      "U1 = copy(U);\n",
      "U1[U==-1] = np.nan;\n",
      "U_zero=tp.VI_quiver_data_zero(partitions_dict)\n",
      "U1_zero = copy(U_zero)\n",
      "U1_zero[U_zero==-1] = np.nan"
     ],
     "language": "python",
     "metadata": {},
     "outputs": [],
     "prompt_number": 21
    },
    {
     "cell_type": "code",
     "collapsed": false,
     "input": [
      "fig=plt.figure(figsize=(20,8))\n",
      "ax1 = fig.add_subplot(1,2,1)\n",
      "plt.contourf(U1_zero.transpose(),interpolation='gaussian')\n",
      "plt.xlabel('Time',fontsize=35)\n",
      "plt.ylabel(r'$\\tau$ ',fontsize=35)\n",
      "ax1.grid()\n",
      "ax1.set_xticklabels(range(0,600,50), fontsize=30,rotation=30)\n",
      "ax1.set_yticklabels(range(0,600,50), fontsize=30)\n",
      "cbar = plt.colorbar(ax=ax1)\n",
      "ax2 = fig.add_subplot(1,2,2,sharey=ax1)\n",
      "im=ax2.contourf(U1.transpose(),interpolation='gaussian')\n",
      "ax2.grid()\n",
      "plt.xlabel('Time',fontsize=30)\n",
      "ax2.set_xticklabels(range(0,600,50), fontsize=30,rotation=30)\n",
      "ax2.set_yticklabels(range(0,600,50), fontsize=30)\n",
      "cbar = plt.colorbar(ax=ax2)\n",
      "plt.show()"
     ],
     "language": "python",
     "metadata": {},
     "outputs": [
      {
       "metadata": {},
       "output_type": "display_data",
       "png": "[encoded data removed]",
       "text": [
        "<matplotlib.figure.Figure at 0x11134ef10>"
       ]
      }
     ],
     "prompt_number": 22
    }
   ],
   "metadata": {}
  }
 ]
}